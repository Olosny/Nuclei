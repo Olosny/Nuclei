{
 "cells": [
  {
   "cell_type": "markdown",
   "metadata": {
    "slideshow": {
     "slide_type": "-"
    }
   },
   "source": [
    "# Nuclei data exploration"
   ]
  },
  {
   "cell_type": "code",
   "execution_count": 80,
   "metadata": {},
   "outputs": [],
   "source": [
    "import pandas as pd\n",
    "import numpy as np\n",
    "import zipfile\n",
    "import re\n",
    "from PIL import Image\n",
    "from io import BytesIO\n",
    "from collections import Counter"
   ]
  },
  {
   "cell_type": "markdown",
   "metadata": {},
   "source": [
    "## Init"
   ]
  },
  {
   "cell_type": "code",
   "execution_count": 7,
   "metadata": {},
   "outputs": [],
   "source": [
    "train = zipfile.ZipFile('./stage1_train.zip')"
   ]
  },
  {
   "cell_type": "code",
   "execution_count": 63,
   "metadata": {},
   "outputs": [],
   "source": [
    "def load_png(png, zipped_pngs):\n",
    "    png_data = zipped_pngs.read(png)\n",
    "    return Image.open(BytesIO(png_data))\n",
    "\n",
    "train_images = [load_png(x, train) for x in train.namelist() if re.search(r'images/.', x)]\n",
    "train_masks  = [load_png(x, train) for x in train.namelist() if re.search(r'masks/.', x)]"
   ]
  },
  {
   "cell_type": "markdown",
   "metadata": {},
   "source": [
    "## Images features"
   ]
  },
  {
   "cell_type": "code",
   "execution_count": 81,
   "metadata": {},
   "outputs": [
    {
     "data": {
      "text/plain": [
       "Counter({(256, 256): 334,\n",
       "         (320, 256): 112,\n",
       "         (347, 260): 5,\n",
       "         (360, 360): 91,\n",
       "         (640, 512): 13,\n",
       "         (696, 520): 92,\n",
       "         (1024, 1024): 16,\n",
       "         (1272, 603): 6,\n",
       "         (1388, 1040): 1})"
      ]
     },
     "execution_count": 81,
     "metadata": {},
     "output_type": "execute_result"
    }
   ],
   "source": [
    "im_sizes = Counter([x.size for x in train_images])\n",
    "im_sizes"
   ]
  }
 ],
 "metadata": {
  "kernelspec": {
   "display_name": "Python 3",
   "language": "python",
   "name": "python3"
  },
  "language_info": {
   "codemirror_mode": {
    "name": "ipython",
    "version": 3
   },
   "file_extension": ".py",
   "mimetype": "text/x-python",
   "name": "python",
   "nbconvert_exporter": "python",
   "pygments_lexer": "ipython3",
   "version": "3.4.5"
  }
 },
 "nbformat": 4,
 "nbformat_minor": 2
}
