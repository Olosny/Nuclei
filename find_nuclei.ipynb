{
 "cells": [
  {
   "cell_type": "markdown",
   "metadata": {
    "slideshow": {
     "slide_type": "-"
    }
   },
   "source": [
    "# Nuclei data exploration"
   ]
  },
  {
   "cell_type": "code",
   "execution_count": 58,
   "metadata": {},
   "outputs": [],
   "source": [
    "import pandas as pd\n",
    "import numpy as np\n",
    "import zipfile\n",
    "import re\n",
    "from PIL import Image\n",
    "from io import BytesIO\n",
    "from collections import Counter\n",
    "import matplotlib.pyplot as plt"
   ]
  },
  {
   "cell_type": "markdown",
   "metadata": {},
   "source": [
    "## Init"
   ]
  },
  {
   "cell_type": "code",
   "execution_count": 16,
   "metadata": {},
   "outputs": [],
   "source": [
    "train_zip = zipfile.ZipFile('./stage1_train.zip')"
   ]
  },
  {
   "cell_type": "code",
   "execution_count": 144,
   "metadata": {},
   "outputs": [],
   "source": [
    "def load_png(png, zipped_pngs):\n",
    "    png_data = zipped_pngs.read(png)\n",
    "    return Image.open(BytesIO(png_data))\n",
    "\n",
    "\n",
    "train_images = [(x[:64], load_png(x, train_zip)) for x in train_zip.namelist() if re.search(r'images/.', x)]\n",
    "train_masks  = [(x[:64], load_png(x, train_zip)) for x in train_zip.namelist() if re.search(r'masks/.', x)]\n",
    "train_images = pd.DataFrame(train_images, columns = ['hash', 'image'])\n",
    "train_masks  = pd.DataFrame(train_masks, columns = ['hash', 'mask'])\n",
    "train        = pd.merge(train_images, train_masks, 'outer', 'hash')"
   ]
  },
  {
   "cell_type": "markdown",
   "metadata": {},
   "source": [
    "## Images features"
   ]
  },
  {
   "cell_type": "code",
   "execution_count": 145,
   "metadata": {},
   "outputs": [],
   "source": [
    "train['size'] = train['image'].apply(lambda x : x.size)\n",
    "train['area'] = train['size'].apply(lambda x : x[0] * x[1])\n",
    "nuc_count = train['hash'].value_counts().to_frame('nuclei_count')\n",
    "nuc_count['hash'] = nuc_count.index\n",
    "train = pd.merge(train, nuc_count, on='hash')\n",
    "train['density'] = train['nuclei_count'] / train['area']"
   ]
  },
  {
   "cell_type": "code",
   "execution_count": 173,
   "metadata": {},
   "outputs": [
    {
     "data": {
      "text/plain": [
       "<matplotlib.axes._subplots.AxesSubplot at 0x7fe5f65ee630>"
      ]
     },
     "execution_count": 173,
     "metadata": {},
     "output_type": "execute_result"
    },
    {
     "data": {
      "image/png": "[encoded data removed]",
      "text/plain": [
       "<matplotlib.figure.Figure at 0x7fe5f61cacc0>"
      ]
     },
     "metadata": {},
     "output_type": "display_data"
    }
   ],
   "source": [
    "# density distrib by image area\n",
    "train.sort_values('area').boxplot(column='density', by='size')"
   ]
  },
  {
   "cell_type": "markdown",
   "metadata": {},
   "source": [
    "## Thought"
   ]
  },
  {
   "cell_type": "markdown",
   "metadata": {},
   "source": [
    "Try a generalization test by isolating a class of images and predict on it"
   ]
  }
 ],
 "metadata": {
  "kernelspec": {
   "display_name": "Python 3",
   "language": "python",
   "name": "python3"
  },
  "language_info": {
   "codemirror_mode": {
    "name": "ipython",
    "version": 3
   },
   "file_extension": ".py",
   "mimetype": "text/x-python",
   "name": "python",
   "nbconvert_exporter": "python",
   "pygments_lexer": "ipython3",
   "version": "3.4.5"
  }
 },
 "nbformat": 4,
 "nbformat_minor": 2
}
